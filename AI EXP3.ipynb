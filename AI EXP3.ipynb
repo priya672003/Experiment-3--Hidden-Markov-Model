{
 "cells": [
  {
   "cell_type": "code",
   "execution_count": 1,
   "id": "00291218",
   "metadata": {},
   "outputs": [],
   "source": [
    "import numpy as np"
   ]
  },
  {
   "cell_type": "code",
   "execution_count": 2,
   "id": "6917e33d",
   "metadata": {},
   "outputs": [],
   "source": [
    "transition_matrix=np.array([[0.7,0.3],\n",
    "                            [0.4,0.6]])"
   ]
  },
  {
   "cell_type": "code",
   "execution_count": 3,
   "id": "c9c41a43",
   "metadata": {},
   "outputs": [],
   "source": [
    "emission_matrix=np.array([[0.1,0.9],\n",
    "                          [0.8,0.2]])"
   ]
  },
  {
   "cell_type": "code",
   "execution_count": 4,
   "id": "bbb46ace",
   "metadata": {},
   "outputs": [],
   "source": [
    "initial_probabilities=np.array([0.5,0.5])"
   ]
  },
  {
   "cell_type": "code",
   "execution_count": 5,
   "id": "dcc9c1ea",
   "metadata": {},
   "outputs": [],
   "source": [
    "observed_sequence=np.array([1,1,1,0,0,1])"
   ]
  },
  {
   "cell_type": "code",
   "execution_count": 6,
   "id": "b7e46bb2",
   "metadata": {},
   "outputs": [],
   "source": [
    "alpha=np.zeros((len(observed_sequence),len(initial_probabilities)))"
   ]
  },
  {
   "cell_type": "code",
   "execution_count": 7,
   "id": "a0826cac",
   "metadata": {},
   "outputs": [],
   "source": [
    "alpha[0,:]=initial_probabilities*emission_matrix[:,observed_sequence[0]]\n",
    "     "
   ]
  },
  {
   "cell_type": "code",
   "execution_count": 9,
   "id": "4dff0a75",
   "metadata": {},
   "outputs": [
    {
     "name": "stdout",
     "output_type": "stream",
     "text": [
      "The probability of the observed sequence is:  0.018906881625\n"
     ]
    }
   ],
   "source": [
    "for t in range(1,len(observed_sequence)):\n",
    "    for j in range(len(initial_probabilities)):\n",
    "        alpha[t,j]=emission_matrix[j,observed_sequence[t]]*np.sum(alpha[t-1,:]*transition_matrix[:,j])\n",
    "probability=np.sum(alpha[-1,:])\n",
    "print(\"The probability of the observed sequence is: \",probability)"
   ]
  },
  {
   "cell_type": "code",
   "execution_count": 11,
   "id": "68f4ec49",
   "metadata": {},
   "outputs": [
    {
     "name": "stdout",
     "output_type": "stream",
     "text": [
      "The most likely sequence of weather states is:  ['sunny', 'sunny', 'sunny', 'rainy', 'rainy', 'sunny']\n"
     ]
    }
   ],
   "source": [
    "most_likely_sequence=[]\n",
    "for t in range(len(observed_sequence)):\n",
    "    if alpha[t,0] > alpha[t,1]:\n",
    "        most_likely_sequence.append(\"sunny\")\n",
    "    else:\n",
    "        most_likely_sequence.append(\"rainy\")\n",
    "\n",
    "print(\"The most likely sequence of weather states is: \",most_likely_sequence)"
   ]
  },
  {
   "cell_type": "code",
   "execution_count": null,
   "id": "4c12b43a",
   "metadata": {},
   "outputs": [],
   "source": []
  }
 ],
 "metadata": {
  "kernelspec": {
   "display_name": "Python 3 (ipykernel)",
   "language": "python",
   "name": "python3"
  },
  "language_info": {
   "codemirror_mode": {
    "name": "ipython",
    "version": 3
   },
   "file_extension": ".py",
   "mimetype": "text/x-python",
   "name": "python",
   "nbconvert_exporter": "python",
   "pygments_lexer": "ipython3",
   "version": "3.9.7"
  }
 },
 "nbformat": 4,
 "nbformat_minor": 5
}
